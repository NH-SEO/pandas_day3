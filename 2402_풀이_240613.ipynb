{
 "cells": [
  {
   "cell_type": "code",
   "execution_count": 21,
   "id": "4aba1986",
   "metadata": {},
   "outputs": [],
   "source": [
    "import warnings\n",
    "warnings.filterwarnings('ignore')\n",
    "\n",
    "import pandas as pd\n",
    "import numpy as np"
   ]
  },
  {
   "cell_type": "code",
   "execution_count": 22,
   "id": "b176c6b3",
   "metadata": {},
   "outputs": [],
   "source": [
    "post = pd.read_csv('lv2-2402.csv')"
   ]
  },
  {
   "cell_type": "markdown",
   "id": "14b6ae1c",
   "metadata": {},
   "source": [
    "# 1"
   ]
  },
  {
   "cell_type": "markdown",
   "id": "95b40a2a",
   "metadata": {},
   "source": [
    "## 1-1"
   ]
  },
  {
   "cell_type": "code",
   "execution_count": 23,
   "id": "f0703b83",
   "metadata": {},
   "outputs": [],
   "source": [
    "yes_map = {\n",
    "    'heart emoji': 5,\n",
    "    'thumbs up': 4,\n",
    "    'clap': 3, \n",
    "    'laughing': 2,\n",
    "    np.nan: 1,\n",
    "    'fire': 0\n",
    "}"
   ]
  },
  {
   "cell_type": "code",
   "execution_count": 24,
   "id": "d06521a1",
   "metadata": {},
   "outputs": [],
   "source": [
    "post.loc[post['LIKES'] == 'yes', 'LIKE_SCORE'] = \\\n",
    "    post.loc[post['LIKES'] == 'yes', 'LIKE_TYPE'].map(yes_map)"
   ]
  },
  {
   "cell_type": "code",
   "execution_count": 25,
   "id": "cd413c70",
   "metadata": {},
   "outputs": [],
   "source": [
    "no_map = {\n",
    "    'fire': -5,\n",
    "    np.nan: -1\n",
    "}"
   ]
  },
  {
   "cell_type": "code",
   "execution_count": 26,
   "id": "e632664d",
   "metadata": {},
   "outputs": [],
   "source": [
    "post.loc[post['LIKES'] == 'no', 'LIKE_SCORE'] = \\\n",
    "    post.loc[post['LIKES'] == 'no', 'LIKE_TYPE'].map(no_map).fillna(value=0)"
   ]
  },
  {
   "cell_type": "code",
   "execution_count": 20,
   "id": "735e22b0",
   "metadata": {},
   "outputs": [
    {
     "data": {
      "text/plain": [
       "0"
      ]
     },
     "execution_count": 20,
     "metadata": {},
     "output_type": "execute_result"
    }
   ],
   "source": [
    "post['LIKE_SCORE'].isna().sum()"
   ]
  },
  {
   "cell_type": "markdown",
   "id": "deee1c91",
   "metadata": {},
   "source": [
    "## 1-2"
   ]
  },
  {
   "cell_type": "code",
   "execution_count": 28,
   "id": "db10a743",
   "metadata": {},
   "outputs": [],
   "source": [
    "df_temp = post[post['POST_ID'] == 1]"
   ]
  },
  {
   "cell_type": "code",
   "execution_count": 31,
   "id": "39dc6bc5",
   "metadata": {},
   "outputs": [
    {
     "data": {
      "text/plain": [
       "13"
      ]
     },
     "execution_count": 31,
     "metadata": {},
     "output_type": "execute_result"
    }
   ],
   "source": [
    "(df_temp['LIKES'] == 'yes').sum()"
   ]
  },
  {
   "cell_type": "code",
   "execution_count": 33,
   "id": "56679dee",
   "metadata": {},
   "outputs": [
    {
     "data": {
      "text/plain": [
       "25"
      ]
     },
     "execution_count": 33,
     "metadata": {},
     "output_type": "execute_result"
    }
   ],
   "source": [
    "df_temp['USER_ID'].nunique()"
   ]
  },
  {
   "cell_type": "code",
   "execution_count": 34,
   "id": "85badfca",
   "metadata": {},
   "outputs": [
    {
     "data": {
      "text/plain": [
       "0.0"
      ]
     },
     "execution_count": 34,
     "metadata": {},
     "output_type": "execute_result"
    }
   ],
   "source": [
    "df_temp['LIKE_SCORE'].sum()"
   ]
  },
  {
   "cell_type": "code",
   "execution_count": 40,
   "id": "40e32e62",
   "metadata": {},
   "outputs": [
    {
     "data": {
      "text/html": [
       "<div>\n",
       "<style scoped>\n",
       "    .dataframe tbody tr th:only-of-type {\n",
       "        vertical-align: middle;\n",
       "    }\n",
       "\n",
       "    .dataframe tbody tr th {\n",
       "        vertical-align: top;\n",
       "    }\n",
       "\n",
       "    .dataframe thead th {\n",
       "        text-align: right;\n",
       "    }\n",
       "</style>\n",
       "<table border=\"1\" class=\"dataframe\">\n",
       "  <thead>\n",
       "    <tr style=\"text-align: right;\">\n",
       "      <th></th>\n",
       "      <th>NUM_LIKES</th>\n",
       "      <th>NUM_USER</th>\n",
       "      <th>SUM_SCORE</th>\n",
       "    </tr>\n",
       "    <tr>\n",
       "      <th>POST_ID</th>\n",
       "      <th></th>\n",
       "      <th></th>\n",
       "      <th></th>\n",
       "    </tr>\n",
       "  </thead>\n",
       "  <tbody>\n",
       "    <tr>\n",
       "      <td>1</td>\n",
       "      <td>13.0</td>\n",
       "      <td>25.0</td>\n",
       "      <td>0.0</td>\n",
       "    </tr>\n",
       "    <tr>\n",
       "      <td>2</td>\n",
       "      <td>15.0</td>\n",
       "      <td>31.0</td>\n",
       "      <td>5.0</td>\n",
       "    </tr>\n",
       "    <tr>\n",
       "      <td>3</td>\n",
       "      <td>14.0</td>\n",
       "      <td>27.0</td>\n",
       "      <td>23.0</td>\n",
       "    </tr>\n",
       "    <tr>\n",
       "      <td>4</td>\n",
       "      <td>16.0</td>\n",
       "      <td>32.0</td>\n",
       "      <td>22.0</td>\n",
       "    </tr>\n",
       "    <tr>\n",
       "      <td>5</td>\n",
       "      <td>13.0</td>\n",
       "      <td>27.0</td>\n",
       "      <td>18.0</td>\n",
       "    </tr>\n",
       "  </tbody>\n",
       "</table>\n",
       "</div>"
      ],
      "text/plain": [
       "         NUM_LIKES  NUM_USER  SUM_SCORE\n",
       "POST_ID                                \n",
       "1             13.0      25.0        0.0\n",
       "2             15.0      31.0        5.0\n",
       "3             14.0      27.0       23.0\n",
       "4             16.0      32.0       22.0\n",
       "5             13.0      27.0       18.0"
      ]
     },
     "execution_count": 40,
     "metadata": {},
     "output_type": "execute_result"
    }
   ],
   "source": [
    "AGG24 = post.groupby('POST_ID')\\\n",
    "            .apply(lambda x: pd.Series({'NUM_LIKES': (x['LIKES'] == 'yes').sum(),\n",
    "                                        'NUM_USER': x['USER_ID'].nunique(),\n",
    "                                        'SUM_SCORE': x['LIKE_SCORE'].sum()}))\n",
    "AGG24.head()"
   ]
  },
  {
   "cell_type": "markdown",
   "id": "76d42b26",
   "metadata": {},
   "source": [
    "## 1-3"
   ]
  },
  {
   "cell_type": "code",
   "execution_count": 42,
   "id": "d309dc4e",
   "metadata": {},
   "outputs": [],
   "source": [
    "AGG24['POPULAR'] = AGG24['NUM_LIKES'] + (AGG24['SUM_SCORE'] / AGG24['NUM_USER'])"
   ]
  },
  {
   "cell_type": "code",
   "execution_count": 44,
   "id": "77ef4987",
   "metadata": {},
   "outputs": [
    {
     "data": {
      "text/plain": [
       "20.82"
      ]
     },
     "execution_count": 44,
     "metadata": {},
     "output_type": "execute_result"
    }
   ],
   "source": [
    "round(AGG24['POPULAR'].max(), 2)"
   ]
  },
  {
   "cell_type": "markdown",
   "id": "1d18d0b5",
   "metadata": {},
   "source": [
    "# 2"
   ]
  },
  {
   "cell_type": "markdown",
   "id": "28c46dc2",
   "metadata": {},
   "source": [
    "## 2-1"
   ]
  },
  {
   "cell_type": "code",
   "execution_count": 46,
   "id": "fdc34da8",
   "metadata": {},
   "outputs": [],
   "source": [
    "df = post[post['USER_ID'] == 2]"
   ]
  },
  {
   "cell_type": "code",
   "execution_count": 49,
   "id": "9ad32377",
   "metadata": {},
   "outputs": [
    {
     "data": {
      "text/plain": [
       "66"
      ]
     },
     "execution_count": 49,
     "metadata": {},
     "output_type": "execute_result"
    }
   ],
   "source": [
    "df['POST_ID'].nunique()"
   ]
  },
  {
   "cell_type": "code",
   "execution_count": 53,
   "id": "c39e3dd4",
   "metadata": {
    "scrolled": true
   },
   "outputs": [
    {
     "data": {
      "text/plain": [
       "29"
      ]
     },
     "execution_count": 53,
     "metadata": {},
     "output_type": "execute_result"
    }
   ],
   "source": [
    "df.loc[df['LIKES'] == 'yes', 'POST_ID'].nunique()"
   ]
  },
  {
   "cell_type": "code",
   "execution_count": 56,
   "id": "54215cf9",
   "metadata": {},
   "outputs": [],
   "source": [
    "AGG25 = post.groupby('USER_ID')\\\n",
    "            .apply(lambda x: pd.Series({\n",
    "                    'NUM_POST': x['POST_ID'].nunique(),\n",
    "                    'NUM_LIKE': x.loc[x['LIKES'] == 'yes', 'POST_ID'].nunique()}))"
   ]
  },
  {
   "cell_type": "code",
   "execution_count": 57,
   "id": "2159a170",
   "metadata": {},
   "outputs": [
    {
     "data": {
      "text/plain": [
       "(77, 2)"
      ]
     },
     "execution_count": 57,
     "metadata": {},
     "output_type": "execute_result"
    }
   ],
   "source": [
    "AGG25.shape"
   ]
  },
  {
   "cell_type": "markdown",
   "id": "93b36ebe",
   "metadata": {},
   "source": [
    "## 2-2"
   ]
  },
  {
   "cell_type": "code",
   "execution_count": 58,
   "id": "5dc96109",
   "metadata": {},
   "outputs": [],
   "source": [
    "from sklearn.preprocessing import StandardScaler"
   ]
  },
  {
   "cell_type": "code",
   "execution_count": 65,
   "id": "11ac3cbc",
   "metadata": {},
   "outputs": [
    {
     "data": {
      "text/plain": [
       "['NUM_POST_S', 'NUM_LIKE_S']"
      ]
     },
     "execution_count": 65,
     "metadata": {},
     "output_type": "execute_result"
    }
   ],
   "source": [
    "col = [f'{col}_S' for col in AGG25.columns]\n",
    "col"
   ]
  },
  {
   "cell_type": "code",
   "execution_count": 68,
   "id": "447156b7",
   "metadata": {},
   "outputs": [],
   "source": [
    "df_scaled = pd.DataFrame(StandardScaler().fit_transform(AGG25), columns=col)"
   ]
  },
  {
   "cell_type": "markdown",
   "id": "d4c80fdf",
   "metadata": {},
   "source": [
    "## 2-3"
   ]
  },
  {
   "cell_type": "code",
   "execution_count": 69,
   "id": "533d469c",
   "metadata": {},
   "outputs": [],
   "source": [
    "from sklearn.cluster import KMeans"
   ]
  },
  {
   "cell_type": "code",
   "execution_count": 70,
   "id": "6cebf956",
   "metadata": {},
   "outputs": [],
   "source": [
    "model = KMeans(n_clusters=2, random_state=1234).fit(df_scaled)"
   ]
  },
  {
   "cell_type": "code",
   "execution_count": 72,
   "id": "5d2b5412",
   "metadata": {},
   "outputs": [],
   "source": [
    "AGG25['cluster'] = model.predict(df_scaled)"
   ]
  },
  {
   "cell_type": "code",
   "execution_count": 73,
   "id": "8c2df939",
   "metadata": {},
   "outputs": [
    {
     "data": {
      "text/html": [
       "<div>\n",
       "<style scoped>\n",
       "    .dataframe tbody tr th:only-of-type {\n",
       "        vertical-align: middle;\n",
       "    }\n",
       "\n",
       "    .dataframe tbody tr th {\n",
       "        vertical-align: top;\n",
       "    }\n",
       "\n",
       "    .dataframe thead th {\n",
       "        text-align: right;\n",
       "    }\n",
       "</style>\n",
       "<table border=\"1\" class=\"dataframe\">\n",
       "  <thead>\n",
       "    <tr style=\"text-align: right;\">\n",
       "      <th></th>\n",
       "      <th>NUM_POST</th>\n",
       "      <th>NUM_LIKE</th>\n",
       "      <th>cluster</th>\n",
       "    </tr>\n",
       "    <tr>\n",
       "      <th>USER_ID</th>\n",
       "      <th></th>\n",
       "      <th></th>\n",
       "      <th></th>\n",
       "    </tr>\n",
       "  </thead>\n",
       "  <tbody>\n",
       "    <tr>\n",
       "      <td>2</td>\n",
       "      <td>66</td>\n",
       "      <td>29</td>\n",
       "      <td>0</td>\n",
       "    </tr>\n",
       "    <tr>\n",
       "      <td>3</td>\n",
       "      <td>67</td>\n",
       "      <td>25</td>\n",
       "      <td>0</td>\n",
       "    </tr>\n",
       "    <tr>\n",
       "      <td>4</td>\n",
       "      <td>64</td>\n",
       "      <td>32</td>\n",
       "      <td>0</td>\n",
       "    </tr>\n",
       "    <tr>\n",
       "      <td>5</td>\n",
       "      <td>257</td>\n",
       "      <td>135</td>\n",
       "      <td>1</td>\n",
       "    </tr>\n",
       "    <tr>\n",
       "      <td>6</td>\n",
       "      <td>62</td>\n",
       "      <td>31</td>\n",
       "      <td>0</td>\n",
       "    </tr>\n",
       "  </tbody>\n",
       "</table>\n",
       "</div>"
      ],
      "text/plain": [
       "         NUM_POST  NUM_LIKE  cluster\n",
       "USER_ID                             \n",
       "2              66        29        0\n",
       "3              67        25        0\n",
       "4              64        32        0\n",
       "5             257       135        1\n",
       "6              62        31        0"
      ]
     },
     "execution_count": 73,
     "metadata": {},
     "output_type": "execute_result"
    }
   ],
   "source": [
    "AGG25.head()"
   ]
  },
  {
   "cell_type": "markdown",
   "id": "cdcdecd0",
   "metadata": {},
   "source": [
    "## 2-4"
   ]
  },
  {
   "cell_type": "code",
   "execution_count": 74,
   "id": "147fbfeb",
   "metadata": {},
   "outputs": [
    {
     "data": {
      "text/plain": [
       "0    64\n",
       "1    13\n",
       "Name: cluster, dtype: int64"
      ]
     },
     "execution_count": 74,
     "metadata": {},
     "output_type": "execute_result"
    }
   ],
   "source": [
    "AGG25['cluster'].value_counts()"
   ]
  },
  {
   "cell_type": "code",
   "execution_count": 75,
   "id": "fa594840",
   "metadata": {},
   "outputs": [],
   "source": [
    "Cluster1 = 1\n",
    "Cluster2 = 0"
   ]
  },
  {
   "cell_type": "markdown",
   "id": "cca3d399",
   "metadata": {},
   "source": [
    "## 2-5"
   ]
  },
  {
   "cell_type": "code",
   "execution_count": 81,
   "id": "57aa6869",
   "metadata": {},
   "outputs": [],
   "source": [
    "df2 = pd.merge(post, AGG25.reset_index(), on='USER_ID', how='left')"
   ]
  },
  {
   "cell_type": "code",
   "execution_count": 86,
   "id": "e21f3fa9",
   "metadata": {},
   "outputs": [
    {
     "data": {
      "text/plain": [
       "2.402274768033523"
      ]
     },
     "execution_count": 86,
     "metadata": {},
     "output_type": "execute_result"
    }
   ],
   "source": [
    "Avg_A = df2[df2['cluster'] == Cluster1]['NUM_HASHTAG'].mean()\n",
    "Avg_A"
   ]
  },
  {
   "cell_type": "markdown",
   "id": "d1446381",
   "metadata": {},
   "source": [
    "## 2-6"
   ]
  },
  {
   "cell_type": "code",
   "execution_count": 87,
   "id": "ab00d588",
   "metadata": {},
   "outputs": [
    {
     "data": {
      "text/plain": [
       "2.428261393778635"
      ]
     },
     "execution_count": 87,
     "metadata": {},
     "output_type": "execute_result"
    }
   ],
   "source": [
    "Avg_B = df2[df2['cluster'] == Cluster2]['NUM_HASHTAG'].mean()\n",
    "Avg_B"
   ]
  },
  {
   "cell_type": "code",
   "execution_count": 89,
   "id": "bf3896eb",
   "metadata": {},
   "outputs": [
    {
     "data": {
      "text/plain": [
       "0.026"
      ]
     },
     "execution_count": 89,
     "metadata": {},
     "output_type": "execute_result"
    }
   ],
   "source": [
    "round(abs(Avg_A - Avg_B), 3)"
   ]
  },
  {
   "cell_type": "markdown",
   "id": "9c72c0f1",
   "metadata": {},
   "source": [
    "# 3"
   ]
  },
  {
   "cell_type": "markdown",
   "id": "386ded26",
   "metadata": {},
   "source": [
    "## 3-1"
   ]
  },
  {
   "cell_type": "code",
   "execution_count": 92,
   "id": "87c5c410",
   "metadata": {},
   "outputs": [],
   "source": [
    "AGG26 = post.groupby(['POST_ID', 'CREATED_DATE'])\\\n",
    "            .apply(lambda x: pd.Series({'NUM_USER': x['USER_ID'].nunique(),\n",
    "                                        'NUM_LIKES': (x['LIKES'] == 'yes').sum(),\n",
    "                                        'AVG_HASHTAG': x['NUM_HASHTAG'].mean()}))\\\n",
    "            .reset_index()"
   ]
  },
  {
   "cell_type": "code",
   "execution_count": 93,
   "id": "9ef3cd6e",
   "metadata": {},
   "outputs": [
    {
     "data": {
      "text/plain": [
       "(257, 5)"
      ]
     },
     "execution_count": 93,
     "metadata": {},
     "output_type": "execute_result"
    }
   ],
   "source": [
    "AGG26.shape"
   ]
  },
  {
   "cell_type": "markdown",
   "id": "cb46516b",
   "metadata": {},
   "source": [
    "## 3-2"
   ]
  },
  {
   "cell_type": "code",
   "execution_count": 95,
   "id": "84fe345b",
   "metadata": {},
   "outputs": [],
   "source": [
    "AGG26['POPULAR'] = np.where(AGG26['NUM_USER'] >= 31, 1, 0)"
   ]
  },
  {
   "cell_type": "markdown",
   "id": "6edd2829",
   "metadata": {},
   "source": [
    "## 3-3"
   ]
  },
  {
   "cell_type": "code",
   "execution_count": 97,
   "id": "20852986",
   "metadata": {},
   "outputs": [],
   "source": [
    "from datetime import datetime"
   ]
  },
  {
   "cell_type": "code",
   "execution_count": 101,
   "id": "5187c75c",
   "metadata": {
    "scrolled": false
   },
   "outputs": [],
   "source": [
    "AGG26['WEEKDAY']\\\n",
    "    = AGG26['CREATED_DATE']\\\n",
    "            .map(lambda x: datetime.strptime(x, '%Y-%m-%d').strftime('%w'))"
   ]
  },
  {
   "cell_type": "markdown",
   "id": "2b19046d",
   "metadata": {},
   "source": [
    "## 3-4"
   ]
  },
  {
   "cell_type": "code",
   "execution_count": 102,
   "id": "665fe428",
   "metadata": {},
   "outputs": [],
   "source": [
    "DataSet6 = AGG26.copy()"
   ]
  },
  {
   "cell_type": "code",
   "execution_count": 103,
   "id": "720f1014",
   "metadata": {},
   "outputs": [],
   "source": [
    "from sklearn.naive_bayes import GaussianNB"
   ]
  },
  {
   "cell_type": "code",
   "execution_count": 104,
   "id": "c50ea4ac",
   "metadata": {},
   "outputs": [],
   "source": [
    "col = ['NUM_LIKES', 'AVG_HASHTAG', 'WEEKDAY']"
   ]
  },
  {
   "cell_type": "code",
   "execution_count": 105,
   "id": "3390332b",
   "metadata": {},
   "outputs": [],
   "source": [
    "model = GaussianNB().fit(X=DataSet6[col], y=DataSet6['POPULAR'])"
   ]
  },
  {
   "cell_type": "markdown",
   "id": "45383184",
   "metadata": {},
   "source": [
    "## 3-5"
   ]
  },
  {
   "cell_type": "code",
   "execution_count": 107,
   "id": "3fb91674",
   "metadata": {},
   "outputs": [
    {
     "data": {
      "text/html": [
       "<div>\n",
       "<style scoped>\n",
       "    .dataframe tbody tr th:only-of-type {\n",
       "        vertical-align: middle;\n",
       "    }\n",
       "\n",
       "    .dataframe tbody tr th {\n",
       "        vertical-align: top;\n",
       "    }\n",
       "\n",
       "    .dataframe thead th {\n",
       "        text-align: right;\n",
       "    }\n",
       "</style>\n",
       "<table border=\"1\" class=\"dataframe\">\n",
       "  <thead>\n",
       "    <tr style=\"text-align: right;\">\n",
       "      <th></th>\n",
       "      <th>NUM_LIKES</th>\n",
       "      <th>AVG_HASHTAG</th>\n",
       "      <th>WEEKDAY</th>\n",
       "    </tr>\n",
       "  </thead>\n",
       "  <tbody>\n",
       "    <tr>\n",
       "      <td>0</td>\n",
       "      <td>16</td>\n",
       "      <td>2.42</td>\n",
       "      <td>5</td>\n",
       "    </tr>\n",
       "  </tbody>\n",
       "</table>\n",
       "</div>"
      ],
      "text/plain": [
       "   NUM_LIKES  AVG_HASHTAG  WEEKDAY\n",
       "0         16         2.42        5"
      ]
     },
     "execution_count": 107,
     "metadata": {},
     "output_type": "execute_result"
    }
   ],
   "source": [
    "test = pd.DataFrame([{'NUM_LIKES': 16, 'AVG_HASHTAG': 2.42, 'WEEKDAY': 5}])\n",
    "test"
   ]
  },
  {
   "cell_type": "code",
   "execution_count": 109,
   "id": "4c01adce",
   "metadata": {},
   "outputs": [
    {
     "data": {
      "text/plain": [
       "array([0, 1], dtype=int64)"
      ]
     },
     "execution_count": 109,
     "metadata": {},
     "output_type": "execute_result"
    }
   ],
   "source": [
    "DataSet6['POPULAR'].unique()"
   ]
  },
  {
   "cell_type": "code",
   "execution_count": 108,
   "id": "5d046b65",
   "metadata": {},
   "outputs": [
    {
     "data": {
      "text/plain": [
       "array([[0.22387533, 0.77612467]])"
      ]
     },
     "execution_count": 108,
     "metadata": {},
     "output_type": "execute_result"
    }
   ],
   "source": [
    "model.predict_proba(test)"
   ]
  },
  {
   "cell_type": "code",
   "execution_count": 110,
   "id": "19603a65",
   "metadata": {},
   "outputs": [
    {
     "data": {
      "text/plain": [
       "0.776"
      ]
     },
     "execution_count": 110,
     "metadata": {},
     "output_type": "execute_result"
    }
   ],
   "source": [
    "round(0.77612467, 3)"
   ]
  },
  {
   "cell_type": "code",
   "execution_count": null,
   "id": "cc57dcf5",
   "metadata": {},
   "outputs": [],
   "source": []
  },
  {
   "cell_type": "markdown",
   "id": "d3663698",
   "metadata": {},
   "source": [
    "## 참고"
   ]
  },
  {
   "cell_type": "code",
   "execution_count": 111,
   "id": "da4a62d0",
   "metadata": {},
   "outputs": [
    {
     "data": {
      "text/plain": [
       "array([[0.1 , 0.83, 0.07],\n",
       "       [0.2 , 0.68, 0.12],\n",
       "       [0.3 , 0.1 , 0.6 ]])"
      ]
     },
     "execution_count": 111,
     "metadata": {},
     "output_type": "execute_result"
    }
   ],
   "source": [
    "test = np.array([\n",
    "    [0.1, 0.83, 0.07],\n",
    "    [0.2, 0.68, 0.12],\n",
    "    [0.3, 0.1, 0.6]\n",
    "])\n",
    "test"
   ]
  },
  {
   "cell_type": "code",
   "execution_count": 114,
   "id": "8bc67b43",
   "metadata": {},
   "outputs": [
    {
     "data": {
      "text/plain": [
       "array([0.1, 0.2, 0.3])"
      ]
     },
     "execution_count": 114,
     "metadata": {},
     "output_type": "execute_result"
    }
   ],
   "source": [
    "test[:, 0]"
   ]
  },
  {
   "cell_type": "code",
   "execution_count": null,
   "id": "35fcf920",
   "metadata": {},
   "outputs": [],
   "source": []
  }
 ],
 "metadata": {
  "kernelspec": {
   "display_name": "Python 3 (ipykernel)",
   "language": "python",
   "name": "python3"
  },
  "language_info": {
   "codemirror_mode": {
    "name": "ipython",
    "version": 3
   },
   "file_extension": ".py",
   "mimetype": "text/x-python",
   "name": "python",
   "nbconvert_exporter": "python",
   "pygments_lexer": "ipython3",
   "version": "3.7.4"
  }
 },
 "nbformat": 4,
 "nbformat_minor": 5
}
