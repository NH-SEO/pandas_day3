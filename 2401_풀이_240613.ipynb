{
 "cells": [
  {
   "cell_type": "code",
   "execution_count": 1,
   "id": "f3768acc",
   "metadata": {},
   "outputs": [],
   "source": [
    "import warnings\n",
    "warnings.filterwarnings('ignore')\n",
    "\n",
    "import pandas as pd\n",
    "import numpy as np"
   ]
  },
  {
   "cell_type": "code",
   "execution_count": 4,
   "id": "5db57019",
   "metadata": {},
   "outputs": [
    {
     "name": "stdout",
     "output_type": "stream",
     "text": [
      "<class 'pandas.core.frame.DataFrame'>\n",
      "RangeIndex: 2000 entries, 0 to 1999\n",
      "Data columns (total 9 columns):\n",
      "C_ID        2000 non-null int64\n",
      "GENDER      2000 non-null object\n",
      "AGE         2000 non-null int64\n",
      "INCOME      2000 non-null int64\n",
      "JOB         1965 non-null object\n",
      "WORK_EXP    2000 non-null int64\n",
      "FAMILY      2000 non-null int64\n",
      "SPENDING    2000 non-null float64\n",
      "GRADE       2000 non-null object\n",
      "dtypes: float64(1), int64(5), object(3)\n",
      "memory usage: 140.8+ KB\n"
     ]
    }
   ],
   "source": [
    "Cust = pd.read_csv('lv2-2401.csv')\n",
    "Cust.info()"
   ]
  },
  {
   "cell_type": "markdown",
   "id": "93185188",
   "metadata": {},
   "source": [
    "# 1"
   ]
  },
  {
   "cell_type": "markdown",
   "id": "24add37d",
   "metadata": {},
   "source": [
    "## 1-1"
   ]
  },
  {
   "cell_type": "code",
   "execution_count": 5,
   "id": "a9c9953d",
   "metadata": {},
   "outputs": [],
   "source": [
    "def get_age_p(age):\n",
    "    if age < 20:\n",
    "        return '10s'\n",
    "    elif age < 30:\n",
    "        return '20s'\n",
    "    elif age < 40:\n",
    "        return '30s'\n",
    "    elif age < 50:\n",
    "        return '40s'\n",
    "    elif age < 60:\n",
    "        return '50s'\n",
    "    elif age >= 60:\n",
    "        return 'other'"
   ]
  },
  {
   "cell_type": "code",
   "execution_count": 7,
   "id": "dec79ed3",
   "metadata": {},
   "outputs": [],
   "source": [
    "Cust['AGE_P'] = Cust['AGE'].map(get_age_p)"
   ]
  },
  {
   "cell_type": "code",
   "execution_count": 8,
   "id": "109e6065",
   "metadata": {},
   "outputs": [
    {
     "data": {
      "text/html": [
       "<div>\n",
       "<style scoped>\n",
       "    .dataframe tbody tr th:only-of-type {\n",
       "        vertical-align: middle;\n",
       "    }\n",
       "\n",
       "    .dataframe tbody tr th {\n",
       "        vertical-align: top;\n",
       "    }\n",
       "\n",
       "    .dataframe thead th {\n",
       "        text-align: right;\n",
       "    }\n",
       "</style>\n",
       "<table border=\"1\" class=\"dataframe\">\n",
       "  <thead>\n",
       "    <tr style=\"text-align: right;\">\n",
       "      <th></th>\n",
       "      <th>C_ID</th>\n",
       "      <th>GENDER</th>\n",
       "      <th>AGE</th>\n",
       "      <th>INCOME</th>\n",
       "      <th>JOB</th>\n",
       "      <th>WORK_EXP</th>\n",
       "      <th>FAMILY</th>\n",
       "      <th>SPENDING</th>\n",
       "      <th>GRADE</th>\n",
       "      <th>AGE_P</th>\n",
       "    </tr>\n",
       "  </thead>\n",
       "  <tbody>\n",
       "    <tr>\n",
       "      <td>0</td>\n",
       "      <td>1</td>\n",
       "      <td>Male</td>\n",
       "      <td>19</td>\n",
       "      <td>15000</td>\n",
       "      <td>B</td>\n",
       "      <td>1</td>\n",
       "      <td>4</td>\n",
       "      <td>11.7</td>\n",
       "      <td>prestige</td>\n",
       "      <td>10s</td>\n",
       "    </tr>\n",
       "    <tr>\n",
       "      <td>1</td>\n",
       "      <td>2</td>\n",
       "      <td>Male</td>\n",
       "      <td>21</td>\n",
       "      <td>35000</td>\n",
       "      <td>D</td>\n",
       "      <td>3</td>\n",
       "      <td>3</td>\n",
       "      <td>24.3</td>\n",
       "      <td>royal blue</td>\n",
       "      <td>20s</td>\n",
       "    </tr>\n",
       "    <tr>\n",
       "      <td>2</td>\n",
       "      <td>3</td>\n",
       "      <td>Female</td>\n",
       "      <td>20</td>\n",
       "      <td>86000</td>\n",
       "      <td>D</td>\n",
       "      <td>1</td>\n",
       "      <td>1</td>\n",
       "      <td>1.8</td>\n",
       "      <td>general</td>\n",
       "      <td>20s</td>\n",
       "    </tr>\n",
       "    <tr>\n",
       "      <td>3</td>\n",
       "      <td>4</td>\n",
       "      <td>Female</td>\n",
       "      <td>23</td>\n",
       "      <td>59000</td>\n",
       "      <td>G</td>\n",
       "      <td>0</td>\n",
       "      <td>2</td>\n",
       "      <td>23.1</td>\n",
       "      <td>royal blue</td>\n",
       "      <td>20s</td>\n",
       "    </tr>\n",
       "    <tr>\n",
       "      <td>4</td>\n",
       "      <td>5</td>\n",
       "      <td>Female</td>\n",
       "      <td>31</td>\n",
       "      <td>38000</td>\n",
       "      <td>C</td>\n",
       "      <td>2</td>\n",
       "      <td>6</td>\n",
       "      <td>12.0</td>\n",
       "      <td>prestige</td>\n",
       "      <td>30s</td>\n",
       "    </tr>\n",
       "  </tbody>\n",
       "</table>\n",
       "</div>"
      ],
      "text/plain": [
       "   C_ID  GENDER  AGE  INCOME JOB  WORK_EXP  FAMILY  SPENDING       GRADE AGE_P\n",
       "0     1    Male   19   15000   B         1       4      11.7    prestige   10s\n",
       "1     2    Male   21   35000   D         3       3      24.3  royal blue   20s\n",
       "2     3  Female   20   86000   D         1       1       1.8     general   20s\n",
       "3     4  Female   23   59000   G         0       2      23.1  royal blue   20s\n",
       "4     5  Female   31   38000   C         2       6      12.0    prestige   30s"
      ]
     },
     "execution_count": 8,
     "metadata": {},
     "output_type": "execute_result"
    }
   ],
   "source": [
    "Cust.head()"
   ]
  },
  {
   "cell_type": "markdown",
   "id": "19846107",
   "metadata": {},
   "source": [
    "## 1-2"
   ]
  },
  {
   "cell_type": "code",
   "execution_count": 10,
   "id": "87bb2a90",
   "metadata": {},
   "outputs": [
    {
     "data": {
      "text/html": [
       "<div>\n",
       "<style scoped>\n",
       "    .dataframe tbody tr th:only-of-type {\n",
       "        vertical-align: middle;\n",
       "    }\n",
       "\n",
       "    .dataframe tbody tr th {\n",
       "        vertical-align: top;\n",
       "    }\n",
       "\n",
       "    .dataframe thead th {\n",
       "        text-align: right;\n",
       "    }\n",
       "</style>\n",
       "<table border=\"1\" class=\"dataframe\">\n",
       "  <thead>\n",
       "    <tr style=\"text-align: right;\">\n",
       "      <th></th>\n",
       "      <th>AVG_SPEND</th>\n",
       "      <th>CUST_CNT</th>\n",
       "    </tr>\n",
       "    <tr>\n",
       "      <th>AGE_P</th>\n",
       "      <th></th>\n",
       "      <th></th>\n",
       "    </tr>\n",
       "  </thead>\n",
       "  <tbody>\n",
       "    <tr>\n",
       "      <td>10s</td>\n",
       "      <td>16.125789</td>\n",
       "      <td>380</td>\n",
       "    </tr>\n",
       "    <tr>\n",
       "      <td>20s</td>\n",
       "      <td>15.665403</td>\n",
       "      <td>211</td>\n",
       "    </tr>\n",
       "    <tr>\n",
       "      <td>30s</td>\n",
       "      <td>15.134440</td>\n",
       "      <td>241</td>\n",
       "    </tr>\n",
       "    <tr>\n",
       "      <td>40s</td>\n",
       "      <td>14.432320</td>\n",
       "      <td>362</td>\n",
       "    </tr>\n",
       "    <tr>\n",
       "      <td>50s</td>\n",
       "      <td>15.314179</td>\n",
       "      <td>402</td>\n",
       "    </tr>\n",
       "    <tr>\n",
       "      <td>other</td>\n",
       "      <td>15.138861</td>\n",
       "      <td>404</td>\n",
       "    </tr>\n",
       "  </tbody>\n",
       "</table>\n",
       "</div>"
      ],
      "text/plain": [
       "       AVG_SPEND  CUST_CNT\n",
       "AGE_P                     \n",
       "10s    16.125789       380\n",
       "20s    15.665403       211\n",
       "30s    15.134440       241\n",
       "40s    14.432320       362\n",
       "50s    15.314179       402\n",
       "other  15.138861       404"
      ]
     },
     "execution_count": 10,
     "metadata": {},
     "output_type": "execute_result"
    }
   ],
   "source": [
    "Cust.groupby('AGE_P')[['SPENDING', 'C_ID']]\\\n",
    "    .agg({'SPENDING': 'mean', 'C_ID': 'size'})\\\n",
    "    .rename(columns={'SPENDING': 'AVG_SPEND', 'C_ID': 'CUST_CNT'})"
   ]
  },
  {
   "cell_type": "code",
   "execution_count": 15,
   "id": "c2001146",
   "metadata": {},
   "outputs": [],
   "source": [
    "Agg24 = Cust.groupby('AGE_P')[['SPENDING', 'C_ID']]\\\n",
    "            .apply(lambda x: pd.Series({'AVG_SPEND' : x['SPENDING'].mean(),\n",
    "                                        'CUST_CNT': x['C_ID'].size}))"
   ]
  },
  {
   "cell_type": "markdown",
   "id": "ea4d2625",
   "metadata": {},
   "source": [
    "## 1-3"
   ]
  },
  {
   "cell_type": "code",
   "execution_count": 18,
   "id": "3d296b84",
   "metadata": {},
   "outputs": [
    {
     "data": {
      "text/html": [
       "<div>\n",
       "<style scoped>\n",
       "    .dataframe tbody tr th:only-of-type {\n",
       "        vertical-align: middle;\n",
       "    }\n",
       "\n",
       "    .dataframe tbody tr th {\n",
       "        vertical-align: top;\n",
       "    }\n",
       "\n",
       "    .dataframe thead th {\n",
       "        text-align: right;\n",
       "    }\n",
       "</style>\n",
       "<table border=\"1\" class=\"dataframe\">\n",
       "  <thead>\n",
       "    <tr style=\"text-align: right;\">\n",
       "      <th></th>\n",
       "      <th>AVG_SPEND</th>\n",
       "      <th>CUST_CNT</th>\n",
       "    </tr>\n",
       "    <tr>\n",
       "      <th>AGE_P</th>\n",
       "      <th></th>\n",
       "      <th></th>\n",
       "    </tr>\n",
       "  </thead>\n",
       "  <tbody>\n",
       "    <tr>\n",
       "      <td>10s</td>\n",
       "      <td>16.125789</td>\n",
       "      <td>380.0</td>\n",
       "    </tr>\n",
       "    <tr>\n",
       "      <td>20s</td>\n",
       "      <td>15.665403</td>\n",
       "      <td>211.0</td>\n",
       "    </tr>\n",
       "    <tr>\n",
       "      <td>50s</td>\n",
       "      <td>15.314179</td>\n",
       "      <td>402.0</td>\n",
       "    </tr>\n",
       "    <tr>\n",
       "      <td>other</td>\n",
       "      <td>15.138861</td>\n",
       "      <td>404.0</td>\n",
       "    </tr>\n",
       "    <tr>\n",
       "      <td>30s</td>\n",
       "      <td>15.134440</td>\n",
       "      <td>241.0</td>\n",
       "    </tr>\n",
       "    <tr>\n",
       "      <td>40s</td>\n",
       "      <td>14.432320</td>\n",
       "      <td>362.0</td>\n",
       "    </tr>\n",
       "  </tbody>\n",
       "</table>\n",
       "</div>"
      ],
      "text/plain": [
       "       AVG_SPEND  CUST_CNT\n",
       "AGE_P                     \n",
       "10s    16.125789     380.0\n",
       "20s    15.665403     211.0\n",
       "50s    15.314179     402.0\n",
       "other  15.138861     404.0\n",
       "30s    15.134440     241.0\n",
       "40s    14.432320     362.0"
      ]
     },
     "execution_count": 18,
     "metadata": {},
     "output_type": "execute_result"
    }
   ],
   "source": [
    "Agg24.sort_values(by='AVG_SPEND', ascending=False)"
   ]
  },
  {
   "cell_type": "markdown",
   "id": "076378a7",
   "metadata": {},
   "source": [
    "# 2"
   ]
  },
  {
   "cell_type": "code",
   "execution_count": 19,
   "id": "d311d513",
   "metadata": {},
   "outputs": [],
   "source": [
    "df2 = Cust.copy()"
   ]
  },
  {
   "cell_type": "markdown",
   "id": "e5dfe479",
   "metadata": {},
   "source": [
    "## 2-1"
   ]
  },
  {
   "cell_type": "code",
   "execution_count": 20,
   "id": "6caf0eb1",
   "metadata": {},
   "outputs": [],
   "source": [
    "from sklearn.preprocessing import StandardScaler"
   ]
  },
  {
   "cell_type": "code",
   "execution_count": 21,
   "id": "10645feb",
   "metadata": {},
   "outputs": [
    {
     "data": {
      "text/plain": [
       "Index(['C_ID', 'GENDER', 'AGE', 'INCOME', 'JOB', 'WORK_EXP', 'FAMILY',\n",
       "       'SPENDING', 'GRADE', 'AGE_P'],\n",
       "      dtype='object')"
      ]
     },
     "execution_count": 21,
     "metadata": {},
     "output_type": "execute_result"
    }
   ],
   "source": [
    "df2.columns"
   ]
  },
  {
   "cell_type": "code",
   "execution_count": 22,
   "id": "26de5066",
   "metadata": {},
   "outputs": [
    {
     "data": {
      "text/plain": [
       "5"
      ]
     },
     "execution_count": 22,
     "metadata": {},
     "output_type": "execute_result"
    }
   ],
   "source": [
    "col = ['AGE', 'INCOME', 'WORK_EXP', 'FAMILY', 'SPENDING']\n",
    "len(col)"
   ]
  },
  {
   "cell_type": "code",
   "execution_count": 27,
   "id": "748b9066",
   "metadata": {},
   "outputs": [],
   "source": [
    "df2[col] = pd.DataFrame(StandardScaler().fit_transform(df2[col]), columns=col)"
   ]
  },
  {
   "cell_type": "code",
   "execution_count": 28,
   "id": "7c61171a",
   "metadata": {},
   "outputs": [
    {
     "data": {
      "text/html": [
       "<div>\n",
       "<style scoped>\n",
       "    .dataframe tbody tr th:only-of-type {\n",
       "        vertical-align: middle;\n",
       "    }\n",
       "\n",
       "    .dataframe tbody tr th {\n",
       "        vertical-align: top;\n",
       "    }\n",
       "\n",
       "    .dataframe thead th {\n",
       "        text-align: right;\n",
       "    }\n",
       "</style>\n",
       "<table border=\"1\" class=\"dataframe\">\n",
       "  <thead>\n",
       "    <tr style=\"text-align: right;\">\n",
       "      <th></th>\n",
       "      <th>C_ID</th>\n",
       "      <th>GENDER</th>\n",
       "      <th>AGE</th>\n",
       "      <th>INCOME</th>\n",
       "      <th>JOB</th>\n",
       "      <th>WORK_EXP</th>\n",
       "      <th>FAMILY</th>\n",
       "      <th>SPENDING</th>\n",
       "      <th>GRADE</th>\n",
       "      <th>AGE_P</th>\n",
       "    </tr>\n",
       "  </thead>\n",
       "  <tbody>\n",
       "    <tr>\n",
       "      <td>0</td>\n",
       "      <td>1</td>\n",
       "      <td>Male</td>\n",
       "      <td>-1.098933</td>\n",
       "      <td>-2.093501</td>\n",
       "      <td>B</td>\n",
       "      <td>-0.791207</td>\n",
       "      <td>0.117497</td>\n",
       "      <td>-0.428339</td>\n",
       "      <td>prestige</td>\n",
       "      <td>10s</td>\n",
       "    </tr>\n",
       "    <tr>\n",
       "      <td>1</td>\n",
       "      <td>2</td>\n",
       "      <td>Male</td>\n",
       "      <td>-0.996920</td>\n",
       "      <td>-1.656133</td>\n",
       "      <td>D</td>\n",
       "      <td>-0.281162</td>\n",
       "      <td>-0.390051</td>\n",
       "      <td>1.075546</td>\n",
       "      <td>royal blue</td>\n",
       "      <td>20s</td>\n",
       "    </tr>\n",
       "    <tr>\n",
       "      <td>2</td>\n",
       "      <td>3</td>\n",
       "      <td>Female</td>\n",
       "      <td>-1.047927</td>\n",
       "      <td>-0.540845</td>\n",
       "      <td>D</td>\n",
       "      <td>-0.791207</td>\n",
       "      <td>-1.405148</td>\n",
       "      <td>-1.609962</td>\n",
       "      <td>general</td>\n",
       "      <td>20s</td>\n",
       "    </tr>\n",
       "    <tr>\n",
       "      <td>3</td>\n",
       "      <td>4</td>\n",
       "      <td>Female</td>\n",
       "      <td>-0.894907</td>\n",
       "      <td>-1.131292</td>\n",
       "      <td>G</td>\n",
       "      <td>-1.046230</td>\n",
       "      <td>-0.897599</td>\n",
       "      <td>0.932319</td>\n",
       "      <td>royal blue</td>\n",
       "      <td>20s</td>\n",
       "    </tr>\n",
       "    <tr>\n",
       "      <td>4</td>\n",
       "      <td>5</td>\n",
       "      <td>Female</td>\n",
       "      <td>-0.486856</td>\n",
       "      <td>-1.590528</td>\n",
       "      <td>C</td>\n",
       "      <td>-0.536185</td>\n",
       "      <td>1.132594</td>\n",
       "      <td>-0.392532</td>\n",
       "      <td>prestige</td>\n",
       "      <td>30s</td>\n",
       "    </tr>\n",
       "  </tbody>\n",
       "</table>\n",
       "</div>"
      ],
      "text/plain": [
       "   C_ID  GENDER       AGE    INCOME JOB  WORK_EXP    FAMILY  SPENDING  \\\n",
       "0     1    Male -1.098933 -2.093501   B -0.791207  0.117497 -0.428339   \n",
       "1     2    Male -0.996920 -1.656133   D -0.281162 -0.390051  1.075546   \n",
       "2     3  Female -1.047927 -0.540845   D -0.791207 -1.405148 -1.609962   \n",
       "3     4  Female -0.894907 -1.131292   G -1.046230 -0.897599  0.932319   \n",
       "4     5  Female -0.486856 -1.590528   C -0.536185  1.132594 -0.392532   \n",
       "\n",
       "        GRADE AGE_P  \n",
       "0    prestige   10s  \n",
       "1  royal blue   20s  \n",
       "2     general   20s  \n",
       "3  royal blue   20s  \n",
       "4    prestige   30s  "
      ]
     },
     "execution_count": 28,
     "metadata": {},
     "output_type": "execute_result"
    }
   ],
   "source": [
    "df2.head()"
   ]
  },
  {
   "cell_type": "markdown",
   "id": "8f330844",
   "metadata": {},
   "source": [
    "## 2-2\n",
    "## 2-3"
   ]
  },
  {
   "cell_type": "code",
   "execution_count": 30,
   "id": "a4b3d41d",
   "metadata": {},
   "outputs": [],
   "source": [
    "df2 = df2.sort_values(by='C_ID')"
   ]
  },
  {
   "cell_type": "code",
   "execution_count": 37,
   "id": "ab6610de",
   "metadata": {},
   "outputs": [],
   "source": [
    "from sklearn.cluster import KMeans\n",
    "from sklearn.metrics import silhouette_score"
   ]
  },
  {
   "cell_type": "code",
   "execution_count": 46,
   "id": "4b0f1624",
   "metadata": {},
   "outputs": [],
   "source": [
    "result = pd.DataFrame()\n",
    "\n",
    "for i in [3, 4]:\n",
    "    model = KMeans(n_clusters=i, random_state=1234, init='random').fit(df2[col])\n",
    "    pred = model.predict(df2[col])\n",
    "    score = silhouette_score(df2[col], pred)\n",
    "    \n",
    "    result = result.append({'n_cluster': i, 'score': score}, ignore_index=True)"
   ]
  },
  {
   "cell_type": "code",
   "execution_count": 53,
   "id": "9b48fe2e",
   "metadata": {
    "scrolled": true
   },
   "outputs": [
    {
     "data": {
      "text/plain": [
       "0.158"
      ]
     },
     "execution_count": 53,
     "metadata": {},
     "output_type": "execute_result"
    }
   ],
   "source": [
    "result['score'].max().round(3)"
   ]
  },
  {
   "cell_type": "markdown",
   "id": "638ed42f",
   "metadata": {},
   "source": [
    "# 3"
   ]
  },
  {
   "cell_type": "markdown",
   "id": "5db44c71",
   "metadata": {},
   "source": [
    "## 3-1"
   ]
  },
  {
   "cell_type": "code",
   "execution_count": 55,
   "id": "0a9bd17c",
   "metadata": {},
   "outputs": [],
   "source": [
    "Cust = Cust[~(Cust['AGE'] < 14) & (Cust['JOB'].notna())]"
   ]
  },
  {
   "cell_type": "markdown",
   "id": "43ecd4e1",
   "metadata": {},
   "source": [
    "## 3-2"
   ]
  },
  {
   "cell_type": "code",
   "execution_count": 58,
   "id": "ce35dc92",
   "metadata": {},
   "outputs": [],
   "source": [
    "Cust = pd.get_dummies(Cust, columns=['GENDER', 'JOB'], drop_first=True)"
   ]
  },
  {
   "cell_type": "markdown",
   "id": "292c8d0b",
   "metadata": {},
   "source": [
    "## 3-3"
   ]
  },
  {
   "cell_type": "code",
   "execution_count": 61,
   "id": "a557a118",
   "metadata": {},
   "outputs": [],
   "source": [
    "TrainSet6 = Cust[Cust['C_ID'] % 3 != 0]\n",
    "TestSet6 = Cust[Cust['C_ID'] % 3 == 0]"
   ]
  },
  {
   "cell_type": "code",
   "execution_count": 62,
   "id": "c3b545bf",
   "metadata": {},
   "outputs": [
    {
     "name": "stdout",
     "output_type": "stream",
     "text": [
      "(1148, 17) (566, 17)\n"
     ]
    }
   ],
   "source": [
    "print(TrainSet6.shape, TestSet6.shape)"
   ]
  },
  {
   "cell_type": "markdown",
   "id": "00d70411",
   "metadata": {},
   "source": [
    "## 3-4"
   ]
  },
  {
   "cell_type": "code",
   "execution_count": 63,
   "id": "3a109aaf",
   "metadata": {},
   "outputs": [],
   "source": [
    "from sklearn.tree import DecisionTreeClassifier"
   ]
  },
  {
   "cell_type": "code",
   "execution_count": 65,
   "id": "ce8eb4ab",
   "metadata": {},
   "outputs": [
    {
     "data": {
      "text/plain": [
       "13"
      ]
     },
     "execution_count": 65,
     "metadata": {},
     "output_type": "execute_result"
    }
   ],
   "source": [
    "col = ['AGE', 'INCOME', 'WORK_EXP', 'FAMILY',\n",
    "       'GENDER_Male', 'JOB_B', 'JOB_C', 'JOB_D', 'JOB_E', 'JOB_F',\n",
    "       'JOB_G', 'JOB_H', 'JOB_I']\n",
    "len(col)"
   ]
  },
  {
   "cell_type": "code",
   "execution_count": 66,
   "id": "de8e194a",
   "metadata": {},
   "outputs": [],
   "source": [
    "model = DecisionTreeClassifier(max_depth=5, random_state=1234)\\\n",
    "            .fit(X=TrainSet6[col], y=TrainSet6['GRADE'])"
   ]
  },
  {
   "cell_type": "markdown",
   "id": "28903713",
   "metadata": {},
   "source": [
    "## 3-5"
   ]
  },
  {
   "cell_type": "code",
   "execution_count": 68,
   "id": "a7cf56c7",
   "metadata": {},
   "outputs": [],
   "source": [
    "pred = model.predict(TestSet6[col])"
   ]
  },
  {
   "cell_type": "code",
   "execution_count": 69,
   "id": "1b7d5cc7",
   "metadata": {},
   "outputs": [],
   "source": [
    "from sklearn.metrics import accuracy_score"
   ]
  },
  {
   "cell_type": "code",
   "execution_count": 72,
   "id": "f858c9e2",
   "metadata": {},
   "outputs": [
    {
     "data": {
      "text/plain": [
       "33.22"
      ]
     },
     "execution_count": 72,
     "metadata": {},
     "output_type": "execute_result"
    }
   ],
   "source": [
    "round(accuracy_score(y_true=TestSet6['GRADE'], y_pred=pred) * 100, 2)"
   ]
  },
  {
   "cell_type": "code",
   "execution_count": null,
   "id": "94237cf1",
   "metadata": {},
   "outputs": [],
   "source": []
  },
  {
   "cell_type": "code",
   "execution_count": null,
   "id": "b1ac7795",
   "metadata": {},
   "outputs": [],
   "source": []
  },
  {
   "cell_type": "code",
   "execution_count": null,
   "id": "e817ec30",
   "metadata": {},
   "outputs": [],
   "source": []
  }
 ],
 "metadata": {
  "kernelspec": {
   "display_name": "Python 3 (ipykernel)",
   "language": "python",
   "name": "python3"
  },
  "language_info": {
   "codemirror_mode": {
    "name": "ipython",
    "version": 3
   },
   "file_extension": ".py",
   "mimetype": "text/x-python",
   "name": "python",
   "nbconvert_exporter": "python",
   "pygments_lexer": "ipython3",
   "version": "3.7.4"
  }
 },
 "nbformat": 4,
 "nbformat_minor": 5
}
